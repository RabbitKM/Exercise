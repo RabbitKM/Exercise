{
  "nbformat": 4,
  "nbformat_minor": 0,
  "metadata": {
    "colab": {
      "name": "Tool-pandas.ipynb",
      "provenance": [],
      "authorship_tag": "ABX9TyPMGKANCSTyIoSaNUOTWEEN",
      "include_colab_link": true
    },
    "kernelspec": {
      "name": "python3",
      "display_name": "Python 3"
    },
    "language_info": {
      "name": "python"
    }
  },
  "cells": [
    {
      "cell_type": "markdown",
      "metadata": {
        "id": "view-in-github",
        "colab_type": "text"
      },
      "source": [
        "<a href=\"https://colab.research.google.com/github/RabbitKM/Exercise/blob/main/Tool_pandas.ipynb\" target=\"_parent\"><img src=\"https://colab.research.google.com/assets/colab-badge.svg\" alt=\"Open In Colab\"/></a>"
      ]
    },
    {
      "cell_type": "code",
      "execution_count": null,
      "metadata": {
        "id": "ixx6LEcKPwHx"
      },
      "outputs": [],
      "source": [
        "# 常用方法\n",
        "import pandas as pd\n",
        "# 產生series\n",
        "series=pd.Series(data=[1,2,3,4,5,6],index=range(1,7))\n",
        "# 取出內容值陣列\n",
        "series.values\n",
        "# 取出索引陣列\n",
        "series.index\n",
        "# 檢查內容值是否不重複\n",
        "series.is_unique\n",
        "# series繪圖\n",
        "import matplotlib.pyplot as plt\n",
        "series.plot()"
      ]
    }
  ]
}
